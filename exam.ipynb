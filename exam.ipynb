{
 "metadata": {
  "language_info": {
   "codemirror_mode": {
    "name": "ipython",
    "version": 3
   },
   "file_extension": ".py",
   "mimetype": "text/x-python",
   "name": "python",
   "nbconvert_exporter": "python",
   "pygments_lexer": "ipython3",
   "version": "3.8.6-final"
  },
  "orig_nbformat": 2,
  "kernelspec": {
   "name": "python3",
   "display_name": "Python 3.8.6 64-bit",
   "metadata": {
    "interpreter": {
     "hash": "4cd7ab41f5fca4b9b44701077e38c5ffd31fe66a6cab21e0214b68d958d0e462"
    }
   }
  }
 },
 "nbformat": 4,
 "nbformat_minor": 2,
 "cells": [
  {
   "source": [
    "# Intro to Geoprocessing Exam 22 January 2021"
   ],
   "cell_type": "markdown",
   "metadata": {}
  },
  {
   "source": [
    "In this notebook you will complete the final exam for Introduction to Geoprocessing. The notebook is in the format you are used to from the past months of class and course material. You can open it in the online browser-based Jupyterhub environment or choose to download the entire folder and complete the exam in the editor of your choice (e.g. VS Code).\n",
    "\n",
    "The exam consists of two parts. First, you will be asked a series of more theoretical questions about the course's learning objectives. You will have to answer these questions by writing your response in a Markdown cell. The second part of the exam is of a more practical nature, in which you will be asked to complete a few small tasks by writing or correcting some Python code. The number of points you can score for each question (total points = 20) is indicated as well. **Although information from the course material and elsewhere may be helpful in the exam, it is is crucial you answer each question IN YOUR OWN WORDS and WITH YOUR OWN CODE.** You may use the course material, your notes and other information online as your reference but any form of communication with classmates or otherwise (e.g. e-mail, message, slack) is absolutely not allowed.\n",
    "\n",
    "At the end of the exam, you will have to convert your notebook to HTML and submit both the `.html` and the `.ipynb` version on the exam submission page in xToledo. Make sure to check both files to ensure they are complete and correct (i.e. all code, figures and Markdown cells are complete and correctly rendered) as you only have one chance to submit these files. You can create as many code and Markdown cells as you deem necessary for answering the question/task."
   ],
   "cell_type": "markdown",
   "metadata": {}
  },
  {
   "source": [
    "## Part 1: Theoretical questions"
   ],
   "cell_type": "markdown",
   "metadata": {}
  },
  {
   "source": [
    "### Question 1 (3 points)\n",
    "In the course you have been using computational notebooks quite intensively. This type of 'notebook' has become a popular medium for quantitative analysis in many scientific disciplines. In your own words, give a definition of a 'computational notebook' and discuss at least two specific advantages of such notebooks for scientific workflows."
   ],
   "cell_type": "markdown",
   "metadata": {}
  },
  {
   "source": [
    "*Your answer goes here...*"
   ],
   "cell_type": "markdown",
   "metadata": {}
  },
  {
   "source": [
    "### Question 2 (3 points)\n",
    "What is map classification and why should the map maker (and reader) care about it? In your discussion, make reference to at least two different classification schemes."
   ],
   "cell_type": "markdown",
   "metadata": {}
  },
  {
   "source": [
    "*Your answer goes here...*"
   ],
   "cell_type": "markdown",
   "metadata": {}
  },
  {
   "source": [
    "### Question 3 (3 points)\n",
    "You have now worked with many different Python value or data types, from simple ones ('String') to more complicated ones ('List'). In your own words, what is the main difference between a NumPy Array, a Pandas DataFrame and a normal Python List. For each of these data types include at least the following characteristics: the kind of data that can be stored, how elements within the data can be accessed, and when to use certain data types. Try to structure your answer and indicate differences or similarities between the different types. You can use very short code blocks to illustrate."
   ],
   "cell_type": "markdown",
   "metadata": {}
  },
  {
   "source": [
    "*Your answer goes here*"
   ],
   "cell_type": "markdown",
   "metadata": {}
  },
  {
   "source": [
    "## Part 2: Practical tasks"
   ],
   "cell_type": "markdown",
   "metadata": {}
  },
  {
   "source": [
    "In this section you will conduct a series of practical tasks. Use both code and markdown cells to answer each task/question. All necessary libraries are already included in the next code cell but you are responsible for loading the needed datasets into a variable. The location of each dataset is always included in the question text."
   ],
   "cell_type": "markdown",
   "metadata": {}
  },
  {
   "cell_type": "code",
   "execution_count": 6,
   "metadata": {
    "tags": []
   },
   "outputs": [
    {
     "output_type": "execute_result",
     "data": {
      "text/plain": [
       "DataTransformerRegistry.enable('default')"
      ]
     },
     "metadata": {},
     "execution_count": 6
    }
   ],
   "source": [
    "# this cell contains our library imports\n",
    "import pandas as pd\n",
    "import altair as alt\n",
    "import geopandas as geopandas\n",
    "import contextily as cx\n",
    "import folium as folium\n",
    "from pysal.viz import mapclassify\n",
    "import esda as esda\n",
    "import matplotlib.pyplot as plt\n",
    "import numpy as np\n",
    "alt.data_transformers.disable_max_rows()"
   ]
  },
  {
   "source": [
    "## Question 4 (3 points)\n",
    "You have been provided with a data file (in csv format) that has information on the population in each district in Brussels in 2020. Read in the csv and answer the following question:\n",
    "- What is the total population of the Brussels region in 2020?\n",
    "- What is the average (mean) population per district?\n",
    "- What is the distribution of population across districts? (Answer this through creating a histogram)\n",
    "\n",
    "Tip: read in the data with the following command `pd.read_csv('data/brussels-districts-population.csv', sep = ';', decimal = ',')`"
   ],
   "cell_type": "markdown",
   "metadata": {}
  },
  {
   "source": [
    "*Your answer goes here*"
   ],
   "cell_type": "markdown",
   "metadata": {}
  },
  {
   "source": [
    "## Question 5 (3 points)\n",
    "The districts from the previous question have a specific shape and location as well. Perform a join with the URBIS_ADM_MD shapefile (`data/URBIS_ADM_MD/UrbAdm_MONITORING_DISTRICT.shp`) in order to create two maps:\n",
    "- A map of the population in each district.\n",
    "- A map of the population density in each district.\n",
    "\n",
    "Tip: to create a map of the population density you will have to add a new column to your DataFrame in which you calculate the density based on two existing columns.\n",
    "\n",
    "Make sure your maps have both a legend and a title."
   ],
   "cell_type": "markdown",
   "metadata": {}
  },
  {
   "source": [
    "*Your answer goes here*"
   ],
   "cell_type": "markdown",
   "metadata": {}
  },
  {
   "source": [
    "## Question 6 (3 points)\n",
    "You have been asked to analyze the distribution of Villo (Brussels' bike sharing program) stations across the city. Read in the data (`data/villo/villo.shp`) and perform a spatial join to the URB_ADM_MD district data. With this foundation, perform the following tasks.\n",
    "- Aggregate the data in such a way that you find out the total number of bike stands (`bike_stand`) per district. What are the 3 districts with the highest number of bike share stands?\n",
    "- Create a bar chart of the total number of bike stands per district and make sure to sort the order of the districts in a descending fashion based on the total number of bike stands in each district.\n",
    "- Of course, districts with more people might require more bikes. Join the population data from the previous question and calculate the number of bike stands per 10,000 people. What are the 3 districts with the lowest number of bike stands per resident?"
   ],
   "cell_type": "markdown",
   "metadata": {}
  },
  {
   "source": [
    "*Your answer goes here*"
   ],
   "cell_type": "markdown",
   "metadata": {}
  },
  {
   "source": [
    "## Question 7 (2 points)\n",
    "In this exercise, you will need to use and apply the online documentation of a function you likely have not used before. Below, a very idealised temperature evolution over 24 hours is calculated (in Kelvin) and stored in the `temp` variable.\n",
    "\n",
    "You need to create a figure using `matplotlib`, which visualizes the temperature in Kelvin as a function of the time in hours. Note that `matplotlib.pyplot` is already made available in your notebook as `plt`, as it was in the weekly labs. Your figure should include the following:\n",
    "\n",
    "- The temperature profile in a red, dotted (.....) line. If you don't know how to change the style of a line, a good search term would be 'line style'.\n",
    "- A horizontal, black dashed (-----) line to indicate the mean temperature for this time period. Use the function `hlines` for this purpose, see documentation https://matplotlib.org/3.1.1/api/_as_gen/matplotlib.pyplot.hlines.html\n",
    "- Axis labels, title and legend. If you do not know how to do this, have a look at\n",
    "https://matplotlib.org/3.1.1/api/_as_gen/matplotlib.pyplot.title.html\n",
    "https://matplotlib.org/3.1.1/api/_as_gen/matplotlib.pyplot.xlabel.html#matplotlib.pyplot.xlabel\n",
    "https://matplotlib.org/3.1.1/api/_as_gen/matplotlib.pyplot.legend.html#matplotlib.pyplot.legend"
   ],
   "cell_type": "markdown",
   "metadata": {}
  },
  {
   "cell_type": "code",
   "execution_count": 7,
   "metadata": {},
   "outputs": [],
   "source": [
    "temp = []\n",
    "for i in range(24):\n",
    "    t = 3 * np.sin((i - 6) * 2 * np.pi / 24) + (i - 15)**2 / 100 + 290\n",
    "    temp.append(t)"
   ]
  },
  {
   "source": [
    "*Your answer goes here*"
   ],
   "cell_type": "markdown",
   "metadata": {}
  }
 ]
}